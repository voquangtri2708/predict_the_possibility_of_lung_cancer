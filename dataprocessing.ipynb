{
 "cells": [
  {
   "cell_type": "code",
   "execution_count": 1,
   "metadata": {},
   "outputs": [],
   "source": [
    "import pandas as pd\n",
    "import numpy  as np\n",
    "data = pd.read_csv(\"lung.csv\", header=0).values"
   ]
  },
  {
   "cell_type": "code",
   "execution_count": 2,
   "metadata": {},
   "outputs": [
    {
     "data": {
      "text/plain": [
       "array([[0, 'P1', 33, ..., 3, 4, 'Low'],\n",
       "       [1, 'P10', 17, ..., 7, 2, 'Medium'],\n",
       "       [2, 'P100', 35, ..., 7, 2, 'High'],\n",
       "       ...,\n",
       "       [997, 'P997', 25, ..., 7, 2, 'High'],\n",
       "       [998, 'P998', 18, ..., 2, 3, 'High'],\n",
       "       [999, 'P999', 47, ..., 7, 2, 'High']], dtype=object)"
      ]
     },
     "execution_count": 2,
     "metadata": {},
     "output_type": "execute_result"
    }
   ],
   "source": [
    "data"
   ]
  },
  {
   "cell_type": "code",
   "execution_count": 3,
   "metadata": {},
   "outputs": [
    {
     "name": "stdout",
     "output_type": "stream",
     "text": [
      "['High' 'Low' 'Medium'] [365 303 332]\n"
     ]
    }
   ],
   "source": [
    "a,b = np.unique(data[:,-1], return_counts=True)\n",
    "print(a,b)"
   ]
  },
  {
   "cell_type": "code",
   "execution_count": 4,
   "metadata": {},
   "outputs": [
    {
     "data": {
      "text/plain": [
       "(1000, 26)"
      ]
     },
     "execution_count": 4,
     "metadata": {},
     "output_type": "execute_result"
    }
   ],
   "source": [
    "data.shape"
   ]
  },
  {
   "cell_type": "code",
   "execution_count": 78,
   "metadata": {},
   "outputs": [
    {
     "data": {
      "text/plain": [
       "array([1, 2, 3, 4, 5, 6, 7], dtype=object)"
      ]
     },
     "execution_count": 78,
     "metadata": {},
     "output_type": "execute_result"
    }
   ],
   "source": [
    "np.unique(data[:,24])"
   ]
  },
  {
   "cell_type": "code",
   "execution_count": 41,
   "metadata": {},
   "outputs": [
    {
     "data": {
      "text/plain": [
       "\"\\nlevel = {\\n    'Low'    : 0,\\n    'Medium' : 1,\\n    'High'   : 2\\n}\\ndata[:,-1] = [level[val] for val in data[:,-1]]\\n\""
      ]
     },
     "execution_count": 41,
     "metadata": {},
     "output_type": "execute_result"
    }
   ],
   "source": [
    "'''\n",
    "level = {\n",
    "    'Low'    : 0,\n",
    "    'Medium' : 1,\n",
    "    'High'   : 2\n",
    "}\n",
    "data[:,-1] = [level[val] for val in data[:,-1]]\n",
    "'''"
   ]
  },
  {
   "cell_type": "code",
   "execution_count": 42,
   "metadata": {},
   "outputs": [
    {
     "data": {
      "text/plain": [
       "array([[33, 1, 2, ..., 3, 4, 'Low'],\n",
       "       [17, 1, 3, ..., 7, 2, 'Medium'],\n",
       "       [35, 1, 4, ..., 7, 2, 'High'],\n",
       "       ...,\n",
       "       [25, 2, 4, ..., 7, 2, 'High'],\n",
       "       [18, 2, 6, ..., 2, 3, 'High'],\n",
       "       [47, 1, 6, ..., 7, 2, 'High']], dtype=object)"
      ]
     },
     "execution_count": 42,
     "metadata": {},
     "output_type": "execute_result"
    }
   ],
   "source": [
    "dt = data[:,2:26]\n",
    "dt"
   ]
  },
  {
   "cell_type": "code",
   "execution_count": 43,
   "metadata": {},
   "outputs": [],
   "source": [
    "#dt = dt.astype(int)"
   ]
  },
  {
   "cell_type": "code",
   "execution_count": 44,
   "metadata": {},
   "outputs": [
    {
     "data": {
      "text/plain": [
       "(1000, 24)"
      ]
     },
     "execution_count": 44,
     "metadata": {},
     "output_type": "execute_result"
    }
   ],
   "source": [
    "dt.shape"
   ]
  },
  {
   "cell_type": "code",
   "execution_count": 45,
   "metadata": {},
   "outputs": [],
   "source": [
    "X = dt[:,0:23]\n",
    "y = dt[:,-1]"
   ]
  },
  {
   "cell_type": "code",
   "execution_count": 46,
   "metadata": {},
   "outputs": [],
   "source": [
    "from sklearn.model_selection import train_test_split\n",
    "\n",
    "# Chia dữ liệu train, test\n",
    "X_train, X_test, y_train, y_test = train_test_split(X, y, test_size=0.2, random_state=42)"
   ]
  },
  {
   "cell_type": "code",
   "execution_count": 47,
   "metadata": {},
   "outputs": [
    {
     "name": "stdout",
     "output_type": "stream",
     "text": [
      "Độ chính xác của mô hình KNN trên tập kiểm tra: 0.995\n"
     ]
    }
   ],
   "source": [
    "from sklearn.neighbors import KNeighborsClassifier\n",
    "from sklearn.metrics import accuracy_score\n",
    "\n",
    "# Tạo mô hình KNN với k=3 (hoặc số lân cận bạn muốn sử dụng)\n",
    "k = 5\n",
    "knn_model = KNeighborsClassifier(n_neighbors=k)\n",
    "\n",
    "# Huấn luyện mô hình KNN trên tập huấn luyện\n",
    "knn_model.fit(X_train, y_train)\n",
    "\n",
    "# Dự đoán kết quả trên tập kiểm tra\n",
    "y_pred = knn_model.predict(X_test)\n",
    "\n",
    "# Tính độ chính xác của mô hình trên tập kiểm tra\n",
    "accuracy = accuracy_score(y_test, y_pred)\n",
    "print(\"Độ chính xác của mô hình KNN trên tập kiểm tra:\", accuracy)"
   ]
  },
  {
   "cell_type": "code",
   "execution_count": 48,
   "metadata": {},
   "outputs": [
    {
     "name": "stdout",
     "output_type": "stream",
     "text": [
      "Độ chính xác của mô hình Naive Bayes trên tập kiểm tra: 0.895\n"
     ]
    }
   ],
   "source": [
    "from sklearn.naive_bayes import GaussianNB\n",
    "from sklearn.metrics import accuracy_score\n",
    "\n",
    "# Tạo mô hình Naive Bayes\n",
    "naive_bayes_model = GaussianNB()\n",
    "\n",
    "# Huấn luyện mô hình trên tập huấn luyện\n",
    "naive_bayes_model.fit(X_train, y_train)\n",
    "\n",
    "# Dự đoán kết quả trên tập kiểm tra\n",
    "y_pred = naive_bayes_model.predict(X_test)\n",
    "\n",
    "# Tính độ chính xác của mô hình trên tập kiểm tra\n",
    "accuracy = accuracy_score(y_test, y_pred)\n",
    "print(\"Độ chính xác của mô hình Naive Bayes trên tập kiểm tra:\", accuracy)"
   ]
  },
  {
   "cell_type": "code",
   "execution_count": 49,
   "metadata": {},
   "outputs": [
    {
     "name": "stdout",
     "output_type": "stream",
     "text": [
      "Độ chính xác của mô hình Random Forest trên tập kiểm tra: 1.0\n"
     ]
    }
   ],
   "source": [
    "from sklearn.ensemble import RandomForestClassifier\n",
    "from sklearn.metrics import accuracy_score\n",
    "\n",
    "# Tạo mô hình Random Forest\n",
    "random_forest_model = RandomForestClassifier(n_estimators=100, random_state=42)\n",
    "\n",
    "# Huấn luyện mô hình trên tập huấn luyện\n",
    "random_forest_model.fit(X_train, y_train)\n",
    "\n",
    "# Dự đoán kết quả trên tập kiểm tra\n",
    "y_pred = random_forest_model.predict(X_test)\n",
    "\n",
    "# Tính độ chính xác của mô hình trên tập kiểm tra\n",
    "accuracy = accuracy_score(y_test, y_pred)\n",
    "print(\"Độ chính xác của mô hình Random Forest trên tập kiểm tra:\", accuracy)"
   ]
  },
  {
   "cell_type": "code",
   "execution_count": 50,
   "metadata": {},
   "outputs": [],
   "source": [
    "import joblib\n",
    "\n",
    "#joblib.dump(random_forest_model, 'models.pkl')"
   ]
  },
  {
   "cell_type": "code",
   "execution_count": 51,
   "metadata": {},
   "outputs": [],
   "source": [
    "# Gọi mô hình\n",
    "models = joblib.load('models.pkl')"
   ]
  },
  {
   "cell_type": "code",
   "execution_count": 52,
   "metadata": {},
   "outputs": [
    {
     "data": {
      "text/plain": [
       "'High'"
      ]
     },
     "execution_count": 52,
     "metadata": {},
     "output_type": "execute_result"
    }
   ],
   "source": [
    "new_data = [[24,1,6,8,7,7,6,7,7,3,8,7,9,6,5,2,5,2,3,2,1,7,6]]\n",
    "models.predict(new_data)[0]"
   ]
  }
 ],
 "metadata": {
  "kernelspec": {
   "display_name": "Python 3",
   "language": "python",
   "name": "python3"
  },
  "language_info": {
   "codemirror_mode": {
    "name": "ipython",
    "version": 3
   },
   "file_extension": ".py",
   "mimetype": "text/x-python",
   "name": "python",
   "nbconvert_exporter": "python",
   "pygments_lexer": "ipython3",
   "version": "3.9.13"
  }
 },
 "nbformat": 4,
 "nbformat_minor": 2
}
